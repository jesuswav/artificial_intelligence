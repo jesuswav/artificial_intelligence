{
  "nbformat": 4,
  "nbformat_minor": 0,
  "metadata": {
    "colab": {
      "provenance": []
    },
    "kernelspec": {
      "name": "python3",
      "display_name": "Python 3"
    },
    "language_info": {
      "name": "python"
    }
  },
  "cells": [
    {
      "cell_type": "code",
      "execution_count": 1,
      "metadata": {
        "id": "1njRn8kL5b0v"
      },
      "outputs": [],
      "source": [
        "import numpy as np"
      ]
    },
    {
      "cell_type": "code",
      "source": [
        "# === Bloque 1: Funciones de activación ===\n",
        "def sigmoid(x):\n",
        "    return 1 / (1 + np.exp(-x))\n",
        "\n",
        "def tanh(x):\n",
        "    return np.tanh(x)"
      ],
      "metadata": {
        "id": "ki6vvP7TDqdL"
      },
      "execution_count": 2,
      "outputs": []
    },
    {
      "cell_type": "code",
      "source": [
        "# === Bloque 2: Inicialización de datos de entrada ===\n",
        "np.random.seed(42)\n",
        "input_size = 4   # Tamaño del vector de entrada x_t\n",
        "hidden_size = 3  # Tamaño del vector de estado oculto h_t y celda C_t\n",
        "\n",
        "x_t = np.random.rand(input_size, 1)          # Entrada actual\n",
        "h_prev = np.random.rand(hidden_size, 1)      # Estado oculto anterior\n",
        "C_prev = np.random.rand(hidden_size, 1)      # Estado de celda anterior\n",
        "\n",
        "print(\"=== Entrada actual x_t ===\\n\", x_t)\n",
        "print(\"=== Estado oculto anterior h_{t-1} ===\\n\", h_prev)\n",
        "print(\"=== Estado de celda anterior C_{t-1} ===\\n\", C_prev)"
      ],
      "metadata": {
        "colab": {
          "base_uri": "https://localhost:8080/"
        },
        "id": "YTYLwS7IDyHQ",
        "outputId": "9f34acec-522c-4502-b803-6985d5e3caa6"
      },
      "execution_count": 3,
      "outputs": [
        {
          "output_type": "stream",
          "name": "stdout",
          "text": [
            "=== Entrada actual x_t ===\n",
            " [[0.37454012]\n",
            " [0.95071431]\n",
            " [0.73199394]\n",
            " [0.59865848]]\n",
            "=== Estado oculto anterior h_{t-1} ===\n",
            " [[0.15601864]\n",
            " [0.15599452]\n",
            " [0.05808361]]\n",
            "=== Estado de celda anterior C_{t-1} ===\n",
            " [[0.86617615]\n",
            " [0.60111501]\n",
            " [0.70807258]]\n"
          ]
        }
      ]
    },
    {
      "cell_type": "code",
      "source": [
        "# === Bloque 3: Inicialización de pesos y sesgos ===\n",
        "W_f = np.random.rand(hidden_size, hidden_size + input_size)\n",
        "b_f = np.random.rand(hidden_size, 1)\n",
        "\n",
        "W_i = np.random.rand(hidden_size, hidden_size + input_size)\n",
        "b_i = np.random.rand(hidden_size, 1)\n",
        "\n",
        "W_C = np.random.rand(hidden_size, hidden_size + input_size)\n",
        "b_C = np.random.rand(hidden_size, 1)\n",
        "\n",
        "W_o = np.random.rand(hidden_size, hidden_size + input_size)\n",
        "b_o = np.random.rand(hidden_size, 1)"
      ],
      "metadata": {
        "id": "twarCLOAD020"
      },
      "execution_count": 4,
      "outputs": []
    },
    {
      "cell_type": "code",
      "source": [
        "# === Bloque 4: Concatenación de h_{t-1} y x_t ===\n",
        "concat = np.vstack((h_prev, x_t))\n",
        "print(\"\\n=== Concatenación [h_{t-1}; x_t] ===\\n\", concat)"
      ],
      "metadata": {
        "colab": {
          "base_uri": "https://localhost:8080/"
        },
        "id": "SMZmbW_dD3EL",
        "outputId": "ad71f686-0aa0-40d2-bb54-2965bf61388a"
      },
      "execution_count": 6,
      "outputs": [
        {
          "output_type": "stream",
          "name": "stdout",
          "text": [
            "\n",
            "=== Concatenación [h_{t-1}; x_t] ===\n",
            " [[0.15601864]\n",
            " [0.15599452]\n",
            " [0.05808361]\n",
            " [0.37454012]\n",
            " [0.95071431]\n",
            " [0.73199394]\n",
            " [0.59865848]]\n"
          ]
        }
      ]
    },
    {
      "cell_type": "code",
      "source": [
        "# === Bloque 5: Cálculo de las puertas ===\n",
        "# Puerta de olvido f_t\n",
        "f_t = sigmoid(W_f @ concat + b_f)\n",
        "print(\"\\n🔑 Puerta de OLVIDO f_t (cuánto olvidar del pasado) ===\\n\", f_t)\n",
        "print(\"Nota: valores cercanos a 1 mantienen la memoria anterior (C_{t-1}), mientras que valores cercanos a 0 la olvidan.\")\n",
        "\n",
        "# Puerta de entrada i_t\n",
        "i_t = sigmoid(W_i @ concat + b_i)\n",
        "print(\"\\n🆕 Puerta de ENTRADA i_t (cuánto nuevo aprender) ===\\n\", i_t)\n",
        "print(\"Nota: valores cercanos a 1 permiten que la nueva información propuesta (\\u0303C_t) entre a la memoria; valores cercanos a 0 la bloquean.\")\n",
        "\n",
        "# Candidato de celda C~_t\n",
        "C_tilde = tanh(W_C @ concat + b_C)\n",
        "print(\"\\n📥 Estado CANDIDATO \\u0303C_t (información propuesta) ===\\n\", C_tilde)\n",
        "print(\"Nota: este es el nuevo contenido que podría ser guardado en la celda, sujeto a la aprobación de i_t.\")\n",
        "\n",
        "# Estado de celda C_t\n",
        "C_t = f_t * C_prev + i_t * C_tilde\n",
        "print(\"\\n🧠 ESTADO de CELDA C_t (memoria combinada) ===\\n\", C_t)\n",
        "print(\"Nota: C_t combina lo que decidimos olvidar (via f_t) y lo que decidimos aprender (via i_t y \\u0303C_t).\")\n",
        "\n",
        "# Puerta de salida o_t\n",
        "o_t = sigmoid(W_o @ concat + b_o)\n",
        "print(\"\\n📤 Puerta de SALIDA o_t (cuánto mostrar) ===\\n\", o_t)\n",
        "print(\"Nota: valores cercanos a 1 permiten que el contenido actual de la celda se refleje en la salida h_t, mientras que valores bajos lo ocultan.\")\n",
        "\n",
        "# Estado oculto h_t\n",
        "h_t = o_t * tanh(C_t)\n",
        "print(\"\\n📣 SALIDA h_t (estado oculto actual) ===\\n\", h_t)\n",
        "print(\"Nota: h_t es la salida visible de esta celda LSTM. Depende de cuánto dejemos salir (o_t) y del estado actual de la memoria (C_t).\")"
      ],
      "metadata": {
        "colab": {
          "base_uri": "https://localhost:8080/"
        },
        "id": "Gmfwk5tFD6by",
        "outputId": "c41d3b3e-ae27-4279-f9bf-ac37e41b575b"
      },
      "execution_count": 8,
      "outputs": [
        {
          "output_type": "stream",
          "name": "stdout",
          "text": [
            "\n",
            "🔑 Puerta de OLVIDO f_t (cuánto olvidar del pasado) ===\n",
            " [[0.71953755]\n",
            " [0.73617388]\n",
            " [0.90950893]]\n",
            "Nota: valores cercanos a 1 mantienen la memoria anterior (C_{t-1}), mientras que valores cercanos a 0 la olvidan.\n",
            "\n",
            "🆕 Puerta de ENTRADA i_t (cuánto nuevo aprender) ===\n",
            " [[0.90876682]\n",
            " [0.81611384]\n",
            " [0.92843489]]\n",
            "Nota: valores cercanos a 1 permiten que la nueva información propuesta (̃C_t) entre a la memoria; valores cercanos a 0 la bloquean.\n",
            "\n",
            "📥 Estado CANDIDATO ̃C_t (información propuesta) ===\n",
            " [[0.90783988]\n",
            " [0.99039234]\n",
            " [0.9685002 ]]\n",
            "Nota: este es el nuevo contenido que podría ser guardado en la celda, sujeto a la aprobación de i_t.\n",
            "\n",
            "🧠 ESTADO de CELDA C_t (memoria combinada) ===\n",
            " [[1.44826102]\n",
            " [1.25079807]\n",
            " [1.54318771]]\n",
            "Nota: C_t combina lo que decidimos olvidar (via f_t) y lo que decidimos aprender (via i_t y ̃C_t).\n",
            "\n",
            "📤 Puerta de SALIDA o_t (cuánto mostrar) ===\n",
            " [[0.91693716]\n",
            " [0.93818735]\n",
            " [0.75460941]]\n",
            "Nota: valores cercanos a 1 permiten que el contenido actual de la celda se refleje en la salida h_t, mientras que valores bajos lo ocultan.\n",
            "\n",
            "📣 SALIDA h_t (estado oculto actual) ===\n",
            " [[0.8209783 ]\n",
            " [0.7960588 ]\n",
            " [0.68869764]]\n",
            "Nota: h_t es la salida visible de esta celda LSTM. Depende de cuánto dejemos salir (o_t) y del estado actual de la memoria (C_t).\n"
          ]
        }
      ]
    }
  ]
}