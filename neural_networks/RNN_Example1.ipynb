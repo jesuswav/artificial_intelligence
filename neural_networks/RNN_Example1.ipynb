{
  "nbformat": 4,
  "nbformat_minor": 0,
  "metadata": {
    "colab": {
      "provenance": []
    },
    "kernelspec": {
      "name": "python3",
      "display_name": "Python 3"
    },
    "language_info": {
      "name": "python"
    }
  },
  "cells": [
    {
      "cell_type": "code",
      "execution_count": 11,
      "metadata": {
        "colab": {
          "base_uri": "https://localhost:8080/"
        },
        "id": "lNL9hkCFoEDB",
        "outputId": "4a1d1cac-6f65-480e-c681-7c9625103a4e"
      },
      "outputs": [
        {
          "output_type": "stream",
          "name": "stdout",
          "text": [
            "Vocabulario: ['and', 'eat', 'i', 'like', 'pasta', 'pizza', 'to']\n",
            "Input indices:  [2, 3, 6, 1, 5, 0, 2, 3, 6, 1]\n",
            "Target indices: [3, 6, 1, 5, 0, 2, 3, 6, 1, 4]\n"
          ]
        }
      ],
      "source": [
        "import torch\n",
        "import torch.nn as nn\n",
        "import torch.optim as optim\n",
        "import matplotlib.pyplot as plt\n",
        "\n",
        "# Frase base (puedes extenderla si quieres)\n",
        "text = \"I like to eat pizza and I like to eat pasta\"\n",
        "\n",
        "# Tokenización simple por palabras\n",
        "words = text.lower().split()\n",
        "vocab = sorted(set(words))  # vocabulario único\n",
        "word2idx = {w: i for i, w in enumerate(vocab)}\n",
        "idx2word = {i: w for w, i in word2idx.items()}\n",
        "\n",
        "# Secuencia de entrenamiento: input y target\n",
        "input_seq = [word2idx[w] for w in words[:-1]]   # todas menos la última\n",
        "target_seq = [word2idx[w] for w in words[1:]]   # todas menos la primera\n",
        "\n",
        "print(\"Vocabulario:\", vocab)\n",
        "print(\"Input indices: \", input_seq)\n",
        "print(\"Target indices:\", target_seq)"
      ]
    },
    {
      "cell_type": "code",
      "source": [
        "import numpy as np\n",
        "\n",
        "vocab_size = len(vocab)\n",
        "word2idx = {w: i for i, w in enumerate(vocab)}\n",
        "\n",
        "print(\"\\nPalabra → One-hot vector:\")\n",
        "for word in vocab:\n",
        "    vec = np.zeros(vocab_size, dtype=int)\n",
        "    vec[word2idx[word]] = 1\n",
        "    print(f\"\\033[ {word:>6}\\033[0m → {vec}\")"
      ],
      "metadata": {
        "colab": {
          "base_uri": "https://localhost:8080/"
        },
        "id": "8gHAf38rzWDf",
        "outputId": "75c2d0c7-608a-468f-877a-886387268028"
      },
      "execution_count": 37,
      "outputs": [
        {
          "output_type": "stream",
          "name": "stdout",
          "text": [
            "\n",
            "Palabra → One-hot vector:\n",
            "\u001b[    and\u001b[0m → [1 0 0 0 0 0 0]\n",
            "\u001b[    eat\u001b[0m → [0 1 0 0 0 0 0]\n",
            "\u001b[      i\u001b[0m → [0 0 1 0 0 0 0]\n",
            "\u001b[   like\u001b[0m → [0 0 0 1 0 0 0]\n",
            "\u001b[  pasta\u001b[0m → [0 0 0 0 1 0 0]\n",
            "\u001b[  pizza\u001b[0m → [0 0 0 0 0 1 0]\n",
            "\u001b[     to\u001b[0m → [0 0 0 0 0 0 1]\n"
          ]
        }
      ]
    },
    {
      "cell_type": "code",
      "source": [
        "def one_hot_encode(sequence, vocab_size):\n",
        "    tensor = torch.zeros(len(sequence), 1, vocab_size)\n",
        "    for t, idx in enumerate(sequence):\n",
        "        tensor[t][0][idx] = 1\n",
        "    return tensor"
      ],
      "metadata": {
        "id": "T2iGrI-foFZ9"
      },
      "execution_count": 23,
      "outputs": []
    },
    {
      "cell_type": "code",
      "source": [
        "class WordRNN(nn.Module):\n",
        "    def __init__(self, input_size, hidden_size, output_size):\n",
        "        super(WordRNN, self).__init__()\n",
        "        self.hidden_size = hidden_size\n",
        "        self.rnn_cell = nn.RNNCell(input_size, hidden_size)\n",
        "        self.fc = nn.Linear(hidden_size, output_size)\n",
        "\n",
        "    def forward(self, input_seq, hidden):\n",
        "        outputs = []\n",
        "        hidden_states = []\n",
        "\n",
        "        for t in range(input_seq.size(0)):\n",
        "            input_t = input_seq[t]\n",
        "            hidden = self.rnn_cell(input_t, hidden)\n",
        "            out = self.fc(hidden)\n",
        "            outputs.append(out)\n",
        "            hidden_states.append(hidden)\n",
        "\n",
        "        return torch.stack(outputs), torch.stack(hidden_states)\n",
        "\n",
        "    def init_hidden(self):\n",
        "        return torch.zeros(1, self.hidden_size)"
      ],
      "metadata": {
        "id": "dgMrz0mToRAH"
      },
      "execution_count": 21,
      "outputs": []
    },
    {
      "cell_type": "code",
      "source": [
        "# Parámetros\n",
        "input_size = len(vocab)\n",
        "hidden_size = 16\n",
        "output_size = len(vocab)\n",
        "\n",
        "model = WordRNN(input_size, hidden_size, output_size)\n",
        "loss_fn = nn.CrossEntropyLoss()\n",
        "optimizer = optim.Adam(model.parameters(), lr=0.01)\n",
        "\n",
        "# Entrenamiento\n",
        "input_tensor = one_hot_encode(input_seq, len(vocab))\n",
        "target_tensor = torch.tensor(target_seq)\n",
        "\n",
        "n_epochs = 200\n",
        "loss_history = []\n",
        "\n",
        "for epoch in range(n_epochs):\n",
        "    hidden = model.init_hidden()\n",
        "    output, hidden_states = model(input_tensor, hidden)\n",
        "\n",
        "    loss = loss_fn(output.squeeze(1), target_tensor)\n",
        "    loss_history.append(loss.item())\n",
        "\n",
        "    optimizer.zero_grad()\n",
        "    loss.backward()\n",
        "    optimizer.step()\n",
        "\n",
        "    if (epoch + 1) % 20 == 0:\n",
        "        print(f\"Epoch {epoch+1}/{n_epochs}, Pérdida: {loss.item():.4f}\")"
      ],
      "metadata": {
        "colab": {
          "base_uri": "https://localhost:8080/"
        },
        "id": "5mEk0fBcoa8S",
        "outputId": "540de9c4-506c-4a32-ed28-2f922a61e633"
      },
      "execution_count": 14,
      "outputs": [
        {
          "output_type": "stream",
          "name": "stdout",
          "text": [
            "Epoch 20/200, Pérdida: 0.5305\n",
            "Epoch 40/200, Pérdida: 0.1340\n",
            "Epoch 60/200, Pérdida: 0.0310\n",
            "Epoch 80/200, Pérdida: 0.0142\n",
            "Epoch 100/200, Pérdida: 0.0094\n",
            "Epoch 120/200, Pérdida: 0.0071\n",
            "Epoch 140/200, Pérdida: 0.0057\n",
            "Epoch 160/200, Pérdida: 0.0047\n",
            "Epoch 180/200, Pérdida: 0.0039\n",
            "Epoch 200/200, Pérdida: 0.0033\n"
          ]
        }
      ]
    },
    {
      "cell_type": "code",
      "source": [
        "# Gráfica de la pérdida\n",
        "plt.plot(loss_history)\n",
        "plt.xlabel(\"Época\")\n",
        "plt.ylabel(\"Pérdida\")\n",
        "plt.title(\"Pérdida durante el entrenamiento\")\n",
        "plt.grid(True)\n",
        "plt.show()"
      ],
      "metadata": {
        "colab": {
          "base_uri": "https://localhost:8080/",
          "height": 474
        },
        "id": "x_svwLUqofau",
        "outputId": "b87797e2-14dd-4bb1-8388-9f58c11d0e07"
      },
      "execution_count": 15,
      "outputs": [
        {
          "output_type": "display_data",
          "data": {
            "text/plain": [
              "<Figure size 640x480 with 1 Axes>"
            ],
            "image/png": "[encoded data removed]"
          },
          "metadata": {}
        }
      ]
    },
    {
      "cell_type": "code",
      "source": [
        "# Inference\n",
        "input_test = one_hot_encode(input_seq, len(vocab))\n",
        "hidden = model.init_hidden()\n",
        "output, hidden_states = model(input_test, hidden)\n",
        "\n",
        "predicted_idxs = torch.argmax(output.squeeze(1), dim=1)\n",
        "predicted_words = [idx2word[idx.item()] for idx in predicted_idxs]\n",
        "\n",
        "print(\"Frase original:  \", words)\n",
        "print(\"Predicciones:    \", predicted_words)"
      ],
      "metadata": {
        "colab": {
          "base_uri": "https://localhost:8080/"
        },
        "id": "rAH9o0zCokcY",
        "outputId": "4d23e059-b69e-41a9-dfe1-a0772a63e72c"
      },
      "execution_count": 32,
      "outputs": [
        {
          "output_type": "stream",
          "name": "stdout",
          "text": [
            "Frase original:   ['i', 'like', 'to', 'eat', 'pizza', 'and', 'i', 'like', 'to', 'eat', 'pasta']\n",
            "Predicciones:     ['like', 'to', 'eat', 'pizza', 'and', 'i', 'like', 'to', 'eat', 'pasta']\n"
          ]
        }
      ]
    },
    {
      "cell_type": "code",
      "source": [
        "from tabulate import tabulate\n",
        "\n",
        "# Emparejamos palabra real y palabra predicha por índice\n",
        "table_data = []\n",
        "\n",
        "for i in range(len(predicted_words)):\n",
        "    table_data.append([i, words[i], predicted_words[i]])\n",
        "\n",
        "# Mostrar la tabla\n",
        "print(tabulate(table_data, headers=[\"Índice\", \"Palabra Original\", \"Palabra Predicha\"], tablefmt=\"fancy_grid\"))"
      ],
      "metadata": {
        "colab": {
          "base_uri": "https://localhost:8080/"
        },
        "id": "Lyj_poMKqDG7",
        "outputId": "f7294001-d549-4b7f-ed74-8d8bd0485665"
      },
      "execution_count": 19,
      "outputs": [
        {
          "output_type": "stream",
          "name": "stdout",
          "text": [
            "╒══════════╤════════════════════╤════════════════════╕\n",
            "│   Índice │ Palabra Original   │ Palabra Predicha   │\n",
            "╞══════════╪════════════════════╪════════════════════╡\n",
            "│        0 │ i                  │ like               │\n",
            "├──────────┼────────────────────┼────────────────────┤\n",
            "│        1 │ like               │ to                 │\n",
            "├──────────┼────────────────────┼────────────────────┤\n",
            "│        2 │ to                 │ eat                │\n",
            "├──────────┼────────────────────┼────────────────────┤\n",
            "│        3 │ eat                │ pizza              │\n",
            "├──────────┼────────────────────┼────────────────────┤\n",
            "│        4 │ pizza              │ and                │\n",
            "├──────────┼────────────────────┼────────────────────┤\n",
            "│        5 │ and                │ i                  │\n",
            "├──────────┼────────────────────┼────────────────────┤\n",
            "│        6 │ i                  │ like               │\n",
            "├──────────┼────────────────────┼────────────────────┤\n",
            "│        7 │ like               │ to                 │\n",
            "├──────────┼────────────────────┼────────────────────┤\n",
            "│        8 │ to                 │ eat                │\n",
            "├──────────┼────────────────────┼────────────────────┤\n",
            "│        9 │ eat                │ pasta              │\n",
            "╘══════════╧════════════════════╧════════════════════╛\n"
          ]
        }
      ]
    }
  ]
}